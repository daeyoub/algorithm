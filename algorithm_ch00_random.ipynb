{
 "cells": [
  {
   "cell_type": "markdown",
   "metadata": {},
   "source": [
    "ch 0. 파이썬 난수 "
   ]
  },
  {
   "cell_type": "markdown",
   "metadata": {},
   "source": [
    "이썬(Python)을 이용하여 난수를 생성하기 위해서는 random 모듈을 사용해야 합니다. \n",
    "이 random 모듈에서 가장 많이 사용되는 함수(메소드)를 정리해봅니다."
   ]
  },
  {
   "cell_type": "markdown",
   "metadata": {},
   "source": [
    "난수 함수를 이용하기 위해서는 import random 를 먼저 선언해야 합니다."
   ]
  },
  {
   "cell_type": "code",
   "execution_count": 8,
   "metadata": {},
   "outputs": [],
   "source": [
    " from random import *"
   ]
  },
  {
   "cell_type": "code",
   "execution_count": 9,
   "metadata": {},
   "outputs": [
    {
     "name": "stdout",
     "output_type": "stream",
     "text": [
      "0.7171166529818993\n"
     ]
    }
   ],
   "source": [
    "print( random())                 # 0.0 이상 1.0 미만의 실수(float)를 리턴(반환)한다."
   ]
  },
  {
   "cell_type": "code",
   "execution_count": 10,
   "metadata": {},
   "outputs": [
    {
     "name": "stdout",
     "output_type": "stream",
     "text": [
      "67\n"
     ]
    }
   ],
   "source": [
    "print( randint(1,100))         #1 이상 100 이하의 정수(int)를 리턴한다."
   ]
  },
  {
   "cell_type": "code",
   "execution_count": 11,
   "metadata": {},
   "outputs": [
    {
     "name": "stdout",
     "output_type": "stream",
     "text": [
      "2\n"
     ]
    }
   ],
   "source": [
    "print( randrange(0, 10, 2)) #0이상 10 미만 2의 배수를 리턴한다.  range()함수의 사용법과 동일하다"
   ]
  },
  {
   "cell_type": "code",
   "execution_count": 15,
   "metadata": {},
   "outputs": [
    {
     "data": {
      "text/plain": [
       "5"
      ]
     },
     "execution_count": 15,
     "metadata": {},
     "output_type": "execute_result"
    }
   ],
   "source": [
    "choice([1, 2, 3, 4, 5])"
   ]
  },
  {
   "cell_type": "markdown",
   "metadata": {},
   "source": [
    "choice()함수는 리스트 같은 시퀀스 자료형을 인자로 전달받아 그 중에서 임의의 값을 하나 선택하여 반환"
   ]
  },
  {
   "cell_type": "code",
   "execution_count": 14,
   "metadata": {},
   "outputs": [
    {
     "data": {
      "text/plain": [
       "[33, 28, 35, 26, 42, 22]"
      ]
     },
     "execution_count": 14,
     "metadata": {},
     "output_type": "execute_result"
    }
   ],
   "source": [
    "sample(range(1, 47), 6)"
   ]
  },
  {
   "cell_type": "markdown",
   "metadata": {},
   "source": [
    "sample()함수는 시퀀스 자료형을 인자로 전달받아 그 중에서 임의의 값(난수)을 필요한 개수만큼 리스트(list)로 반환\n",
    "특히 반환된 리스트의 값들은 중복되지 않는다."
   ]
  },
  {
   "cell_type": "code",
   "execution_count": null,
   "metadata": {},
   "outputs": [],
   "source": [
    "L = [1, 2, 3, 4, 5, 6, 7, 8, 9, 10]\n",
    "print(shuffle(L))"
   ]
  },
  {
   "cell_type": "markdown",
   "metadata": {},
   "source": [
    "shuffle() 함수는 전달받은 시퀀스 자료형 변수 내용을 임의의 순서대로(랜덤으로) 섞는다. (셔플)\n",
    "\n",
    "리턴값이 없고, 전달하는 시퀀스 자료형(리스트) 변수 내용 자체를 변경한다."
   ]
  }
 ],
 "metadata": {
  "celltoolbar": "Slideshow",
  "kernelspec": {
   "display_name": "Python 3",
   "language": "python",
   "name": "python3"
  },
  "language_info": {
   "codemirror_mode": {
    "name": "ipython",
    "version": 3
   },
   "file_extension": ".py",
   "mimetype": "text/x-python",
   "name": "python",
   "nbconvert_exporter": "python",
   "pygments_lexer": "ipython3",
   "version": "3.7.3"
  }
 },
 "nbformat": 4,
 "nbformat_minor": 2
}
