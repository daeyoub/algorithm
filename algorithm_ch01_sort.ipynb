{
 "cells": [
  {
   "cell_type": "markdown",
   "metadata": {},
   "source": [
    "# Algorithm 1. Sort"
   ]
  },
  {
   "cell_type": "markdown",
   "metadata": {},
   "source": [
    "### 기본 알고리즘\n",
    "* selectionSort (선택정렬)\n",
    "* bubbleSort    (버블정렬)\n",
    "* insertionSort (삽입정렬)"
   ]
  },
  {
   "cell_type": "markdown",
   "metadata": {},
   "source": [
    "### 1. selectionSort (선택정렬)"
   ]
  },
  {
   "cell_type": "code",
   "execution_count": 1,
   "metadata": {},
   "outputs": [
    {
     "name": "stdout",
     "output_type": "stream",
     "text": [
      "[3, 2, 4, 9, 2, 7, 4, 4, 8]\n",
      "[2, 2, 3, 4, 4, 4, 7, 9, 8]\n"
     ]
    }
   ],
   "source": [
    "# -*- coding: utf-8 -*-\n",
    "#선택정렬\n",
    "def theLargest(A, last):\n",
    "    largest = 0;\n",
    "    for i in range(1, last):\n",
    "        if(A[i] >= A[largest]): #if(A[i] > A[largest]): 오류. why???\n",
    "            largest = i;\n",
    "    return largest \n",
    "\n",
    "def selectionSort(A, n):      \n",
    "    for last in range(n-1, 0,-1):\n",
    "        largest= theLargest(A, last)               \n",
    "        A[largest], A[last] = A[last], A[largest]  \n",
    "        \n",
    "A=[3,2,4,9,2,7,4,4,8]\n",
    "#A=[0x123,0x2154,0x222,0x4,0x283,0x1560,0x1061,0x2150,0x37]\n",
    "#A=[3,4,2,39,29,33,31, 22, 11, 16]\n",
    "#B=[]\n",
    "n=A.__len__()    \n",
    "firstIndex=0\n",
    "lastIndex=n-1\n",
    "print(A)\n",
    "selectionSort(A, lastIndex)\n",
    "print(A)"
   ]
  },
  {
   "cell_type": "markdown",
   "metadata": {},
   "source": [
    "### 2. bubbleSort    (버블정렬)"
   ]
  },
  {
   "cell_type": "code",
   "execution_count": 2,
   "metadata": {},
   "outputs": [
    {
     "name": "stdout",
     "output_type": "stream",
     "text": [
      "[3, 2, 4, 9, 2, 7, 4, 4, 8]\n",
      "[2, 2, 3, 4, 4, 4, 7, 9, 8]\n"
     ]
    }
   ],
   "source": [
    "# -*- coding: utf-8 -*-\n",
    "#버블정렬\n",
    "def bubbleSort(A, n):\n",
    "    for last in range(n-1, 0,-1): # 1<= last <= n-1\n",
    "        for i in range(0, last):  # 0 <= i <= last-1\n",
    "            if A[i] > A[i+1]: \n",
    "                A[i], A[i+1]=A[i+1], A[i] \n",
    "        \n",
    "A=[3,2,4,9,2,7,4,4,8]\n",
    "#A=[0x123,0x2154,0x222,0x4,0x283,0x1560,0x1061,0x2150,0x37]\n",
    "#A=[3,4,2,39,29,33,31, 22, 11, 16]\n",
    "#B=[]\n",
    "n=A.__len__()    \n",
    "firstIndex=0\n",
    "lastIndex=n-1\n",
    "print(A)\n",
    "bubbleSort(A, lastIndex)\n",
    "print(A)"
   ]
  },
  {
   "cell_type": "markdown",
   "metadata": {},
   "source": [
    "### 3. insertionSort (삽입정렬)"
   ]
  },
  {
   "cell_type": "code",
   "execution_count": 3,
   "metadata": {},
   "outputs": [
    {
     "name": "stdout",
     "output_type": "stream",
     "text": [
      "[3, 2, 4, 9, 2, 7, 4, 4, 8]\n",
      "[2, 2, 3, 4, 4, 4, 7, 9, 8]\n"
     ]
    }
   ],
   "source": [
    "# -*- coding: utf-8 -*-\n",
    "#삽입정렬\n",
    "def insertionSort(A,n):\n",
    "    for i in range(1, n):\n",
    "        loc     = i-1\n",
    "        newItem = A[i]\n",
    "        while loc >= 0 and newItem < A[loc]:\n",
    "            A[loc+1]=A[loc]\n",
    "            loc-=1\n",
    "        A[loc+1]=newItem\n",
    "        \n",
    "A=[3,2,4,9,2,7,4,4,8]\n",
    "#A=[0x123,0x2154,0x222,0x4,0x283,0x1560,0x1061,0x2150,0x37]\n",
    "#A=[3,4,2,39,29,33,31, 22, 11, 16]\n",
    "#B=[]\n",
    "n=A.__len__()    \n",
    "firstIndex=0\n",
    "lastIndex=n-1\n",
    "print(A)\n",
    "insertionSort(A, lastIndex)\n",
    "print(A)"
   ]
  },
  {
   "cell_type": "markdown",
   "metadata": {},
   "source": [
    "### 고급정렬알고리즘\n",
    "* mergeSort    (병합정렬)\n",
    "* quickSort     (퀵정렬)\n",
    "* heapSort       (힙정렬)"
   ]
  },
  {
   "cell_type": "markdown",
   "metadata": {},
   "source": [
    "### 4. mergeSort    (병합정렬)"
   ]
  },
  {
   "cell_type": "code",
   "execution_count": 4,
   "metadata": {},
   "outputs": [
    {
     "name": "stdout",
     "output_type": "stream",
     "text": [
      "[3, 2, 4, 9, 2, 7, 4, 4, 8]\n",
      "[2, 2, 3, 4, 4, 4, 7, 9, 8]\n"
     ]
    }
   ],
   "source": [
    "# -*- coding: utf-8 -*-\n",
    "#병합정렬\n",
    "def merge(A,p,q,r):\n",
    "    i, j, t = p, q+1, 1\n",
    "    temp=[]\n",
    "    while i <= q and j <= r:\n",
    "        if A[i] <= A[j] :\n",
    "            temp.append(A[i])\n",
    "            i+=1\n",
    "        else:\n",
    "            temp.append(A[j])\n",
    "            j+=1\n",
    "    while i <= q:\n",
    "        temp.append(A[i])\n",
    "        i+=1\n",
    "    while j <= r:\n",
    "        temp.append(A[j])\n",
    "        j+=1\n",
    "    i=p \n",
    "    t=0\n",
    "    while i <= r:\n",
    "        A[i]=temp[t] \n",
    "        i+=1\n",
    "        t+=1\n",
    "\n",
    "def mergeSort(A, p, r):\n",
    "    if p < r :        \n",
    "        q = int((p+r)/2)\n",
    "        mergeSort(A, p, q)\n",
    "        mergeSort(A, q+1,r)\n",
    "        merge(A,p,q,r)\n",
    "        \n",
    "A=[3,2,4,9,2,7,4,4,8]\n",
    "#A=[0x123,0x2154,0x222,0x4,0x283,0x1560,0x1061,0x2150,0x37]\n",
    "#A=[3,4,2,39,29,33,31, 22, 11, 16]\n",
    "#B=[]\n",
    "n=A.__len__()    \n",
    "firstIndex=0\n",
    "lastIndex=n-1\n",
    "print(A)\n",
    "insertionSort(A, lastIndex)\n",
    "print(A)"
   ]
  },
  {
   "cell_type": "markdown",
   "metadata": {},
   "source": [
    "### 5. quickSort     (퀵정렬)"
   ]
  },
  {
   "cell_type": "code",
   "execution_count": 5,
   "metadata": {},
   "outputs": [
    {
     "name": "stdout",
     "output_type": "stream",
     "text": [
      "[3, 2, 4, 9, 2, 7, 4, 4, 8]\n",
      "[2, 2, 3, 4, 4, 4, 7, 9, 8]\n"
     ]
    }
   ],
   "source": [
    "# -*- coding: utf-8 -*-\n",
    "#퀵정렬\n",
    "def partition(A,p,r):\n",
    "    x = A[r]\n",
    "    i = p-1\n",
    "    for j in range(p, r):  # p <= j <= r-1\n",
    "        print(j, r)\n",
    "        if A[j] <= x: \n",
    "            i+=1\n",
    "            A[i], A[j] = A[j], A[i] \n",
    "    i+=1\n",
    "    A[i], A[r] = A[r], A[i] \n",
    "    return i\n",
    "def quickSort(A,p,r):\n",
    "    if p < r:\n",
    "        q = partition(A, p, r)\n",
    "        #print(\"q is %d\"%q, A)\n",
    "        quickSort(A, p, q-1)\n",
    "        quickSort(A, q+1, r)\n",
    "        \n",
    "A=[3,2,4,9,2,7,4,4,8]\n",
    "#A=[0x123,0x2154,0x222,0x4,0x283,0x1560,0x1061,0x2150,0x37]\n",
    "#A=[3,4,2,39,29,33,31, 22, 11, 16]\n",
    "#B=[]\n",
    "n=A.__len__()    \n",
    "firstIndex=0\n",
    "lastIndex=n-1\n",
    "print(A)\n",
    "insertionSort(A, lastIndex)\n",
    "print(A)"
   ]
  },
  {
   "cell_type": "markdown",
   "metadata": {},
   "source": [
    "### 6. heapSort       (힙정렬)"
   ]
  },
  {
   "cell_type": "code",
   "execution_count": 6,
   "metadata": {},
   "outputs": [
    {
     "name": "stdout",
     "output_type": "stream",
     "text": [
      "[3, 2, 4, 9, 2, 7, 4, 4, 8]\n",
      "[2, 2, 3, 4, 4, 4, 7, 9, 8]\n"
     ]
    }
   ],
   "source": [
    "# -*- coding: utf-8 -*-\n",
    "#힙정렬\n",
    "def heapify(A, k, n): #To make a heap for a subtree which its subroot is A[k]\n",
    "    leftChild   = 2*k \n",
    "    rightChild  = 2*k+1\n",
    "    if rightChild <= n:\n",
    "        if A[leftChild] < A[rightChild]:\n",
    "            smaller = leftChild \n",
    "        else:\n",
    "            smaller = rightChild \n",
    "    elif leftChild <= n:\n",
    "        smaller = leftChild \n",
    "    else:\n",
    "        return\n",
    "    if A[smaller] < A[k]:\n",
    "        A[k], A[smaller] = A[smaller], A[k]\n",
    "        heapify(A, smaller, n)\n",
    "\n",
    "def buildHeap(A, n):\n",
    "    last = int(n/2)\n",
    "    for i in range(last, -1, -1):  # n/2 >= i > 0\n",
    "        heapify(A, i, n)\n",
    "#        print(\"i is %d\"%i, A)\n",
    "        \n",
    "def heapSort(A, n):\n",
    "    buildHeap(A, n)\n",
    "    for i in range(n, 0, -1):\n",
    "        A[0], A[i] = A[i], A[0]\n",
    "        heapify(A, 0, i-1)        \n",
    "#        print(A)\n",
    "\n",
    "A=[3,2,4,9,2,7,4,4,8]\n",
    "#A=[0x123,0x2154,0x222,0x4,0x283,0x1560,0x1061,0x2150,0x37]\n",
    "#A=[3,4,2,39,29,33,31, 22, 11, 16]\n",
    "#B=[]\n",
    "n=A.__len__()    \n",
    "firstIndex=0\n",
    "lastIndex=n-1\n",
    "print(A)\n",
    "insertionSort(A, lastIndex)\n",
    "print(A)"
   ]
  },
  {
   "cell_type": "markdown",
   "metadata": {},
   "source": [
    "### 특수정렬\n",
    "* radixSort (기수정렬)\n",
    "* countingSort (계수정렬)"
   ]
  },
  {
   "cell_type": "markdown",
   "metadata": {},
   "source": [
    "### 7. radixSort (기수정렬)"
   ]
  },
  {
   "cell_type": "code",
   "execution_count": 7,
   "metadata": {},
   "outputs": [
    {
     "name": "stdout",
     "output_type": "stream",
     "text": [
      "[291, 8532, 546, 4, 643, 5472, 4193, 8528, 55]\n",
      "[4, 55, 291, 546, 643, 4193, 5472, 8528, 8532]\n"
     ]
    }
   ],
   "source": [
    "# -*- coding: utf-8 -*-\n",
    "#기수정렬\n",
    "#16진수를 base로 하는 기수정렬\n",
    "\n",
    "from math import log\n",
    "def radixSort_base16(A,n):\n",
    "    base=16 #16진수 기준    \n",
    "    \n",
    "    digit = int(log(max(A), base) + 1)\n",
    "    #print(digit)\n",
    "    mask=0xF\n",
    "    rightSift=0;    \n",
    "       \n",
    "    for x in range(0,digit):\n",
    "        list = []\n",
    "        for y in range(0, base-1):\n",
    "            list.append([])        \n",
    "        #for y in range(0, base-1):\n",
    "        #    print(list[y])\n",
    "        for i in range(0, n+1):\n",
    "            y = A[i] & mask\n",
    "        #    print(\"%d digit,i is %d\"%(x,i), hex(A[i]),A[i], \"is appended in list[%d]\"%y)            \n",
    "            y = y >> rightSift\n",
    "            list[y].append(A[i])\n",
    "        #   for y in range(0, base-1):\n",
    "        #        print(y, list[y])        \n",
    "        i=0\n",
    "        for y in range(0, base-1):\n",
    "            for k in range(0, list[y].__len__() ):                \n",
    "                A[i]=list[y][k]\n",
    "                i+=1\n",
    "        rightSift +=4\n",
    "        mask = mask << 4 \n",
    "\n",
    "A=[3,2,4,9,2,7,4,4,8]\n",
    "A=[0x123,0x2154,0x222,0x4,0x283,0x1560,0x1061,0x2150,0x37]\n",
    "#A=[3,4,2,39,29,33,31, 22, 11, 16]\n",
    "#B=[]\n",
    "n=A.__len__()    \n",
    "firstIndex=0\n",
    "lastIndex=n-1\n",
    "print(A)\n",
    "radixSort_base16(A, lastIndex)\n",
    "print(A)"
   ]
  },
  {
   "cell_type": "markdown",
   "metadata": {},
   "source": [
    "### 8. countingSort (계수정렬)"
   ]
  },
  {
   "cell_type": "code",
   "execution_count": 8,
   "metadata": {},
   "outputs": [
    {
     "name": "stdout",
     "output_type": "stream",
     "text": [
      "[3, 4, 2, 39, 29, 33, 31, 22, 11, 16]\n",
      "[2, 3, 4, 11, 16, 22, 29, 31, 33, 39]\n"
     ]
    }
   ],
   "source": [
    "# -*- coding: utf-8 -*-\n",
    "#계수 정렬\n",
    "#16진수를 base로 하는 기수정렬\n",
    "\n",
    "def countSort(A, B, n):    \n",
    "    \n",
    "    for i in range(0, A.__len__()):\n",
    "        B.append(0)\n",
    "    \n",
    "    k=max(A)\n",
    "    C=[]\n",
    "    for i in range(0, k+1):\n",
    "        C.append(0)    \n",
    "    \n",
    "    for i in range(0, n+1):\n",
    "        C[ A[i] ] +=1\n",
    "        \n",
    "    for i in range(1, k+1):\n",
    "        C[i] += C[i-1]\n",
    "            \n",
    "    for i in range(0, n+1):        \n",
    "        B[ C[ A[i]]-1 ] =A[i]\n",
    "        C[ A[i]] -=1\n",
    "        \n",
    "#A=[3,2,4,9,2,7,4,4,8]\n",
    "#A=[0x123,0x2154,0x222,0x4,0x283,0x1560,0x1061,0x2150,0x37]\n",
    "A=[3,4,2,39,29,33,31, 22, 11, 16]\n",
    "B=[]\n",
    "n=A.__len__()    \n",
    "firstIndex=0\n",
    "lastIndex=n-1\n",
    "print(A)\n",
    "countSort(A, B, lastIndex)\n",
    "print(B)"
   ]
  },
  {
   "cell_type": "code",
   "execution_count": null,
   "metadata": {},
   "outputs": [],
   "source": []
  }
 ],
 "metadata": {
  "kernelspec": {
   "display_name": "Python 3",
   "language": "python",
   "name": "python3"
  },
  "language_info": {
   "codemirror_mode": {
    "name": "ipython",
    "version": 3
   },
   "file_extension": ".py",
   "mimetype": "text/x-python",
   "name": "python",
   "nbconvert_exporter": "python",
   "pygments_lexer": "ipython3",
   "version": "3.7.3"
  }
 },
 "nbformat": 4,
 "nbformat_minor": 2
}
