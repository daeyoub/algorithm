{
 "cells": [
  {
   "cell_type": "markdown",
   "metadata": {},
   "source": [
    "Node 정의"
   ]
  },
  {
   "cell_type": "code",
   "execution_count": 1,
   "metadata": {},
   "outputs": [],
   "source": [
    "class Node:\n",
    "    def __init__(self, key, index=0):\n",
    "        self.parent = None\n",
    "        self.key = key\n",
    "        self.index = index\n",
    "        self.left = None    #None or empty leaf node for red black tree\n",
    "        self.right = None   \n",
    "        self.color = 0      #black(1), red(0)\n",
    "    \n",
    "    def addChild(self, lr, childNode):\n",
    "        if lr == 0: #left child\n",
    "            self.left = childNode \n",
    "            childNode.index = self.index * 2 \n",
    "            childNode.parent = self\n",
    "            \n",
    "        elif lr == 1: #right child            \n",
    "            self.right = childNode \n",
    "            childNode.index = self.index * 2 + 1\n",
    "            childNode.parent = self\n",
    "\n",
    "        else :\n",
    "            return 1\n",
    "        return 0\n",
    "    \n",
    "    def readKey(self):\n",
    "        return self.key\n",
    "    \n",
    "    def writeKey(self, key):\n",
    "        self.key = key\n"
   ]
  },
  {
   "cell_type": "code",
   "execution_count": 2,
   "metadata": {},
   "outputs": [],
   "source": [
    "def binarySearchTreeFindNode(node: Node, key, index) :\n",
    "    \n",
    "    \n",
    "    if key == None and index == None:\n",
    "        return None\n",
    "    \n",
    "    if node == None or node.key == key or node.index ==index:\n",
    "        return node\n",
    "    \n",
    "    if key != None:       \n",
    "        if node.key < key :\n",
    "            node = binarySearchTreeFindNode(node.right, key, index)\n",
    "        else :\n",
    "            node = binarySearchTreeFindNode(node.left, key, index)\n",
    "            \n",
    "    elif index != None:\n",
    "        mask = 1\n",
    "        numOfRound = 2\n",
    "        while numOfRound < index :\n",
    "            if (index & mask) != 0:\n",
    "                node=node.right\n",
    "            else:\n",
    "                node=node.left\n",
    "            mask = mask << 1\n",
    "            numOfRound *= 2\n",
    "    \n",
    "    return node"
   ]
  },
  {
   "cell_type": "markdown",
   "metadata": {},
   "source": [
    " BST에서 노드 추가\n",
    " * _ binarySearchTreeInsertNode (parent, key)\n",
    "   [1] parent: 추가될 노드의 상위 노드. 탐색을 통하여 parent가 NULL인 위치를 찾아, 해당 위치에 노드를 삽입한다.\n",
    "   [2] key: 삽입 하려는 노드의 키 값\n",
    "   단,   root node 는 별도로 처리한다.\n",
    "   \n",
    "   * binarySearchTreeInsertNode (root, key)\n",
    "   [1] root: tree의 루트노드\n",
    "   [2] key: 삽입하려는 노드의 키 값\n",
    "   "
   ]
  },
  {
   "cell_type": "code",
   "execution_count": 3,
   "metadata": {},
   "outputs": [],
   "source": [
    "def _binarySearchTreeInsertNode(parent: Node, key) -> (int, Node):    \n",
    "     \n",
    "    if parent == None or parent.index == 0:  # if index=0, it is a empty leaf node for red black tree\n",
    "        return 1, None\n",
    "    \n",
    "    #to check whether input type of 'parent' is Node\n",
    "    #if isinstance(parent,Node) == False:\n",
    "    #    return 2, None    \n",
    "    \n",
    "    node=None\n",
    "    \n",
    "    if key < parent.key:\n",
    "        result, node =  _binarySearchTreeInsertNode(parent.left, key)\n",
    "        if result == 1:\n",
    "            node = Node(key)\n",
    "            parent.addChild(0, node) #add a left child to a parent node\n",
    "            \n",
    "    else:\n",
    "        result, node =  _binarySearchTreeInsertNode(parent.right, key)\n",
    "        if result == 1:\n",
    "            node = Node(key)\n",
    "            parent.addChild(1, node) #add a right child to a parent node\n",
    "            \n",
    "    return 0, node\n"
   ]
  },
  {
   "cell_type": "code",
   "execution_count": 4,
   "metadata": {},
   "outputs": [],
   "source": [
    "\n",
    "def binarySearchTreeInsertNode(root: Node, key) -> (int, Node):  \n",
    "    \n",
    "    if root == None: #generate a root\n",
    "        node = Node(key, index=1)  #a root is a black node\n",
    "        return 0, node\n",
    "    else:\n",
    "        result, node = _binarySearchTreeInsertNode(root, key)\n",
    "        return result, node \n"
   ]
  },
  {
   "cell_type": "markdown",
   "metadata": {},
   "source": [
    "BST에서 노드 삭제\n",
    ": 주어진 키 값을 이용하여 노드를 탐색한 후, 해당 노드를 삭제한다."
   ]
  },
  {
   "cell_type": "code",
   "execution_count": 5,
   "metadata": {},
   "outputs": [],
   "source": [
    "def _deleteNode(node):\n",
    "    if node.left == None and node.right == None:\n",
    "        return None\n",
    "    \n",
    "    elif node.left != None and node.right == None:\n",
    "        return node.left\n",
    "    \n",
    "    elif node.left == None and node.right != None:\n",
    "        return node.right\n",
    "    \n",
    "    else:\n",
    "        target = node.right \n",
    "        while target.left != None:\n",
    "            parent = target\n",
    "            target = target.left\n",
    "        \n",
    "        #delete target\n",
    "        node.key = target.key\n",
    "        \n",
    "        if target == node.right:\n",
    "            node.right = target.right\n",
    "        else:\n",
    "            parent.right = target.right\n",
    "        return node \n",
    "\n",
    "# it finds a node with removeNode.key and then remove the node from tree with the root    \n",
    "def binarySearchTreeDeleteNode(root:Node, key, index):\n",
    "    \n",
    "    removeNode = binarySearchTreeFindNode(root, key, index)\n",
    "    \n",
    "    if removeNode.key == root.key:\n",
    "        root = _deleteNode(removeNode)\n",
    "        \n",
    "    elif removeNode.parent.left != None and removeNode.parent.left.key == removeNode.key :\n",
    "        removeNode.parent.left = _deleteNode(removeNode)\n",
    "    \n",
    "    else:\n",
    "        removeNode.parent.right = _deleteNode(removeNode)\n"
   ]
  },
  {
   "cell_type": "markdown",
   "metadata": {},
   "source": [
    "Test"
   ]
  },
  {
   "cell_type": "code",
   "execution_count": 11,
   "metadata": {},
   "outputs": [
    {
     "name": "stdout",
     "output_type": "stream",
     "text": [
      "<__main__.Node object at 0x7f92d04e41d0>\n",
      "<__main__.Node object at 0x7f92d04e4208>\n",
      "<__main__.Node object at 0x7f92d04e41d0>\n"
     ]
    }
   ],
   "source": [
    "root=Node(2,1) #root node    \n",
    "result, node=binarySearchTreeInsertNode(root,3)\n",
    "result, node=binarySearchTreeInsertNode(root,5)\n",
    "result, node=binarySearchTreeInsertNode(root,1)\n",
    "print(root)\n",
    "node=binarySearchTreeFindNode(root, None, 7)\n",
    "print(node)\n",
    "node=binarySearchTreeDeleteNode(root, 1, None)\n",
    "print(root)"
   ]
  },
  {
   "cell_type": "code",
   "execution_count": null,
   "metadata": {},
   "outputs": [],
   "source": []
  }
 ],
 "metadata": {
  "kernelspec": {
   "display_name": "Python 3",
   "language": "python",
   "name": "python3"
  },
  "language_info": {
   "codemirror_mode": {
    "name": "ipython",
    "version": 3
   },
   "file_extension": ".py",
   "mimetype": "text/x-python",
   "name": "python",
   "nbconvert_exporter": "python",
   "pygments_lexer": "ipython3",
   "version": "3.7.3"
  }
 },
 "nbformat": 4,
 "nbformat_minor": 2
}
